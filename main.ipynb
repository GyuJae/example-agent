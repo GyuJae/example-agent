{
 "cells": [
  {
   "cell_type": "code",
   "execution_count": null,
   "id": "ecf9964b",
   "metadata": {},
   "outputs": [],
   "source": [
    "import openai, json\n",
    "\n",
    "client =  openai.Client()\n",
    "\n",
    "messages = []\n"
   ]
  },
  {
   "cell_type": "code",
   "execution_count": null,
   "id": "dd0fea0f",
   "metadata": {},
   "outputs": [],
   "source": [
    "def get_weather(city):\n",
    "  return \"33 degrees Celsius\"\n",
    "\n",
    "FUNCTION_MAP = {\n",
    "  \"get_weather\": get_weather\n",
    "}"
   ]
  },
  {
   "cell_type": "code",
   "execution_count": 11,
   "id": "78f45056",
   "metadata": {},
   "outputs": [],
   "source": [
    "TOOLS = [\n",
    "    {\n",
    "        \"type\": \"function\",\n",
    "        \"function\": {\n",
    "            \"name\": \"get_weather\",\n",
    "            \"description\": \"A function to get the weather of a city.\",\n",
    "            \"parameters\": {\n",
    "                \"type\": \"object\",\n",
    "                \"properties\": {\n",
    "                    \"city\": {\n",
    "                        \"type\": \"string\",\n",
    "                        \"description\": \"The name of the city to get the weather of.\",\n",
    "                    },\n",
    "                },\n",
    "                \"required\": [\"city\"],\n",
    "            },\n",
    "        },\n",
    "    },\n",
    "]"
   ]
  },
  {
   "cell_type": "code",
   "execution_count": null,
   "id": "22e1b72f",
   "metadata": {},
   "outputs": [],
   "source": [
    "from openai.types.chat import ChatCompletionMessage\n",
    "\n",
    "\n",
    "def process_ai_response(message: ChatCompletionMessage):\n",
    "  if message.tool_calls:\n",
    "      messages.append(\n",
    "          {\n",
    "              \"role\": \"assistant\",\n",
    "              \"content\": message.content or \"\",\n",
    "              \"tool_calls\": [\n",
    "                  {\n",
    "                      \"id\": tool_call.id,\n",
    "                      \"type\": \"function\",\n",
    "                      \"function\": (\n",
    "                          {\n",
    "                              \"name\": tool_call.function.name,\n",
    "                              \"arguments\": tool_call.function.arguments,\n",
    "                          }\n",
    "                          if tool_call.type == \"function\"\n",
    "                          else None\n",
    "                      ),\n",
    "                  }\n",
    "                  for tool_call in message.tool_calls\n",
    "              ],\n",
    "          }\n",
    "      )\n",
    "\n",
    "      for tool_call in message.tool_calls:\n",
    "          function_name = tool_call.function.name\n",
    "          arguments = tool_call.function.arguments\n",
    "\n",
    "          print(f\"Calling function: {function_name} with arguments: {arguments}\")\n",
    "\n",
    "          try:\n",
    "              arguments = json.loads(arguments)\n",
    "          except json.JSONDecoderError:\n",
    "              arguments = {}\n",
    "\n",
    "          function_to_run = FUNCTION_MAP.get(function_name)\n",
    "\n",
    "          result = function_to_run(**arguments) if function_to_run else None\n",
    "\n",
    "          messages.append(\n",
    "              {\n",
    "                  \"role\": \"tool\",\n",
    "                  \"tool_call_id\": tool_call.id,\n",
    "                  \"name\": function_name,\n",
    "                  \"content\": result,\n",
    "              }\n",
    "          )\n",
    "\n",
    "          call_ai()\n",
    "  else:\n",
    "    messages.append({\"role\": \"assistant\", \"content\": message.content or \"\"})\n",
    "    print(f\"AI: {message}\")\n",
    "def call_ai():\n",
    "  response = client.chat.completions.create(\n",
    "    model=\"gpt-4o-mini\",\n",
    "    messages=messages,\n",
    "    tools=TOOLS,\n",
    "  )\n",
    "  process_ai_response(response.choices[0].message)"
   ]
  },
  {
   "cell_type": "code",
   "execution_count": null,
   "id": "cd809840",
   "metadata": {},
   "outputs": [
    {
     "name": "stdout",
     "output_type": "stream",
     "text": [
      "User: My Name is Gyujae\n",
      "AI: Nice to meet you, Gyujae! How can I assist you today?\n",
      "User: What is my name?\n",
      "AI: Your name is Gyujae. How can I help you today, Gyujae?\n"
     ]
    }
   ],
   "source": [
    "while True:\n",
    "  message = input(\"Send a message to the LLM...\")\n",
    "  if message == \"quit\" or message == \"q\":\n",
    "    break\n",
    "  else:\n",
    "    messages.append({\n",
    "      \"role\": \"user\",\n",
    "      \"content\": message\n",
    "    })\n",
    "    print(f\"User: {message}\")\n",
    "    call_ai()\n",
    "  \n"
   ]
  }
 ],
 "metadata": {
  "kernelspec": {
   "display_name": "example-agent",
   "language": "python",
   "name": "python3"
  },
  "language_info": {
   "codemirror_mode": {
    "name": "ipython",
    "version": 3
   },
   "file_extension": ".py",
   "mimetype": "text/x-python",
   "name": "python",
   "nbconvert_exporter": "python",
   "pygments_lexer": "ipython3",
   "version": "3.13.7"
  }
 },
 "nbformat": 4,
 "nbformat_minor": 5
}
