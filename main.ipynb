{
 "cells": [
  {
   "cell_type": "code",
   "execution_count": 1,
   "id": "ecf9964b",
   "metadata": {},
   "outputs": [],
   "source": [
    "import openai\n",
    "\n",
    "client =  openai.Client()\n",
    "\n",
    "PROMPT = \"\"\"\n",
    "I have the following functions in my system.\n",
    "\n",
    "'get_weather'\n",
    "'get_currency'\n",
    "'get_news'\n",
    "\n",
    "All of them receive the name of a country as an argument (i.e. get_weather('Spain'))\n",
    "\n",
    "Please, answer with the name of the function that you would like me to run.\n",
    "\n",
    "Please, say nothing else, just the name of the function with the arguments.\n",
    "\n",
    "Answer the following question:\n",
    "\n",
    "What is the weather in Greece?\n",
    "\"\"\"\n",
    "\n",
    "response = client.chat.completions.create(\n",
    "    model=\"gpt-4o-mini\", messages=[{\"role\": \"user\", \"content\": PROMPT}], n=10\n",
    ")\n"
   ]
  },
  {
   "cell_type": "code",
   "execution_count": 2,
   "id": "cd809840",
   "metadata": {},
   "outputs": [
    {
     "data": {
      "text/plain": [
       "\"get_weather('Greece')\""
      ]
     },
     "execution_count": 2,
     "metadata": {},
     "output_type": "execute_result"
    }
   ],
   "source": [
    "message = response.choices[0].message.content\n",
    "\n",
    "message"
   ]
  }
 ],
 "metadata": {
  "kernelspec": {
   "display_name": "example-agent",
   "language": "python",
   "name": "python3"
  },
  "language_info": {
   "codemirror_mode": {
    "name": "ipython",
    "version": 3
   },
   "file_extension": ".py",
   "mimetype": "text/x-python",
   "name": "python",
   "nbconvert_exporter": "python",
   "pygments_lexer": "ipython3",
   "version": "3.13.7"
  }
 },
 "nbformat": 4,
 "nbformat_minor": 5
}
