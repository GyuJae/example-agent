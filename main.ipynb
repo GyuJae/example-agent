{
 "cells": [
  {
   "cell_type": "code",
   "execution_count": 3,
   "id": "ecf9964b",
   "metadata": {},
   "outputs": [],
   "source": [
    "import openai\n",
    "\n",
    "client =  openai.Client()\n",
    "\n",
    "messages = []\n"
   ]
  },
  {
   "cell_type": "code",
   "execution_count": 6,
   "id": "22e1b72f",
   "metadata": {},
   "outputs": [],
   "source": [
    "def call_ai():\n",
    "  response = client.chat.completions.create(\n",
    "    model=\"gpt-4o-mini\",\n",
    "    messages=messages,\n",
    "  )\n",
    "  message = response.choices[0].message.content\n",
    "  messages.append({\"role\": \"assistant\", \"content\": message})\n",
    "  print(f\"AI: {message}\")"
   ]
  },
  {
   "cell_type": "code",
   "execution_count": null,
   "id": "cd809840",
   "metadata": {},
   "outputs": [
    {
     "name": "stdout",
     "output_type": "stream",
     "text": [
      "User: My Name is Gyujae\n",
      "AI: Nice to meet you, Gyujae! How can I assist you today?\n",
      "User: What is my name?\n",
      "AI: Your name is Gyujae. How can I help you today, Gyujae?\n"
     ]
    }
   ],
   "source": [
    "while True:\n",
    "  message = input(\"Send a message to the LLM...\")\n",
    "  if message == \"quit\" or message == \"q\":\n",
    "    break\n",
    "  else:\n",
    "    messages.append({\n",
    "      \"role\": \"user\",\n",
    "      \"content\": message\n",
    "    })\n",
    "    print(f\"User: {message}\")\n",
    "    call_ai()\n",
    "  \n"
   ]
  }
 ],
 "metadata": {
  "kernelspec": {
   "display_name": "example-agent",
   "language": "python",
   "name": "python3"
  },
  "language_info": {
   "codemirror_mode": {
    "name": "ipython",
    "version": 3
   },
   "file_extension": ".py",
   "mimetype": "text/x-python",
   "name": "python",
   "nbconvert_exporter": "python",
   "pygments_lexer": "ipython3",
   "version": "3.13.7"
  }
 },
 "nbformat": 4,
 "nbformat_minor": 5
}
